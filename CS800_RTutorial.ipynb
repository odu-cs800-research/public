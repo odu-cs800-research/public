{
  "nbformat": 4,
  "nbformat_minor": 0,
  "metadata": {
    "colab": {
      "name": "CS800-RTutorial.ipynb",
      "provenance": [],
      "collapsed_sections": [],
      "toc_visible": true,
      "authorship_tag": "ABX9TyNzy6Y8t13TlfAD4brme5UQ",
      "include_colab_link": true
    },
    "kernelspec": {
      "name": "ir",
      "display_name": "R"
    }
  },
  "cells": [
    {
      "cell_type": "markdown",
      "metadata": {
        "id": "view-in-github",
        "colab_type": "text"
      },
      "source": [
        "<a href=\"https://colab.research.google.com/github/odu-cs800-research/public/blob/main/CS800_RTutorial.ipynb\" target=\"_parent\"><img src=\"https://colab.research.google.com/assets/colab-badge.svg\" alt=\"Open In Colab\"/></a>"
      ]
    },
    {
      "cell_type": "markdown",
      "metadata": {
        "id": "3jPMf4rKiusJ"
      },
      "source": [
        "# CS 800 R Tutorial\n",
        "\n",
        "We'll be doing some of the exercises from [R for Data Science](https://r4ds.had.co.nz) to get an introduction to R. We'll do this in Google Colab, but the commands can also be run locally using RStudio.\n",
        "\n",
        "There are a ton of references available for R and since it's popular, you can pretty much search for whatever you want and find something close.\n",
        "\n",
        "There are some examples of more of the statistical functions at\n",
        "https://www.cs.odu.edu/~mweigle/courses/cs795/mklein-IntroR/lecture/"
      ]
    },
    {
      "cell_type": "markdown",
      "metadata": {
        "id": "90JfoLbPjPfz"
      },
      "source": [
        "## First Thing"
      ]
    },
    {
      "cell_type": "markdown",
      "metadata": {
        "id": "OWVdYA5FjbJT"
      },
      "source": [
        "We're going to use the [ggplot2](https://ggplot2.tidyverse.org/) library, which is including in the [tidyverse package](https://www.tidyverse.org/), so we install and include that first."
      ]
    },
    {
      "cell_type": "code",
      "metadata": {
        "id": "xVfv5kHbjS5K"
      },
      "source": [
        "install.packages(\"tidyverse\")"
      ],
      "execution_count": null,
      "outputs": []
    },
    {
      "cell_type": "code",
      "metadata": {
        "id": "FWHloyA9jY8S"
      },
      "source": [
        "library(tidyverse)"
      ],
      "execution_count": null,
      "outputs": []
    },
    {
      "cell_type": "markdown",
      "metadata": {
        "id": "J8dBxevDlxHY"
      },
      "source": [
        "## Basic Data Visualization in R"
      ]
    },
    {
      "cell_type": "markdown",
      "metadata": {
        "id": "65c3tD9Jl33O"
      },
      "source": [
        "### Aesthetic mappings\n",
        "\n",
        "We'll start with [Section 3.3, Aesthetic mappings](https://r4ds.had.co.nz/data-visualisation.html#aesthetic-mappings) from [R for Data Science](https://r4ds.had.co.nz)."
      ]
    },
    {
      "cell_type": "markdown",
      "metadata": {
        "id": "46YFtly8dmiJ"
      },
      "source": [
        "First, let's look at the `mpg` dataset that we use for these examples.  This command will pop up a help window with a description of the dataset."
      ]
    },
    {
      "cell_type": "code",
      "metadata": {
        "id": "-jH3sV1_dpuR"
      },
      "source": [
        "?ggplot2::mpg"
      ],
      "execution_count": null,
      "outputs": []
    },
    {
      "cell_type": "markdown",
      "metadata": {
        "id": "ZR-rrxknkTaf"
      },
      "source": [
        "Here we'll print just the first few lines of what's in the `mpg` dataset.  Note that this is a \"tibble\" instead of a regular R \"dataframe\".  \n",
        "\n",
        "If you're not familiar with either of these terms, don't worry about it.  If you are familiar with dataframes, then here's a description of the differences: https://r4ds.had.co.nz/tibbles.html#tibbles-vs.data.frame"
      ]
    },
    {
      "cell_type": "code",
      "metadata": {
        "id": "kVmn0s3tkQ-o"
      },
      "source": [
        "head(mpg)"
      ],
      "execution_count": null,
      "outputs": []
    },
    {
      "cell_type": "markdown",
      "metadata": {
        "id": "Hhzsv_DpUqWc"
      },
      "source": [
        "First, let's create a simple scatterplot.  We're mapping the displacement attribute (`displ`) to the x-axis and the highway miles per gallon (`hwy`) to the y-axis."
      ]
    },
    {
      "cell_type": "code",
      "metadata": {
        "id": "nC46kjbpjpdX"
      },
      "source": [
        "ggplot(data = mpg) + \n",
        "  geom_point(mapping = aes(x = displ, y = hwy))"
      ],
      "execution_count": null,
      "outputs": []
    },
    {
      "cell_type": "markdown",
      "metadata": {
        "id": "selNrwbcmcEL"
      },
      "source": [
        "Map the colors of datapoints to the `class` variable, indicating the class of each vehicle."
      ]
    },
    {
      "cell_type": "code",
      "metadata": {
        "id": "9DNpl9L_mPLm"
      },
      "source": [
        "ggplot(data = mpg) + \n",
        "  geom_point(mapping = aes(x = displ, y = hwy, color = class))"
      ],
      "execution_count": null,
      "outputs": []
    },
    {
      "cell_type": "markdown",
      "metadata": {
        "id": "6qp5e7OZnM8_"
      },
      "source": [
        "Make all of the points blue.  Notice the difference in the placement of the color setting. It applies to all the dots and is not based on any data item."
      ]
    },
    {
      "cell_type": "code",
      "metadata": {
        "id": "QKSNr_gXnSh9"
      },
      "source": [
        "ggplot(data = mpg) + \n",
        "  geom_point(mapping = aes(x = displ, y = hwy), color = \"blue\")"
      ],
      "execution_count": null,
      "outputs": []
    },
    {
      "cell_type": "markdown",
      "metadata": {
        "id": "Ktfgrx93nFIh"
      },
      "source": [
        "*This will generate an error.  Why?*"
      ]
    },
    {
      "cell_type": "code",
      "metadata": {
        "id": "mJa1w0kOnDnH"
      },
      "source": [
        "ggplot(data = mpg) \n",
        "+ geom_point(mapping = aes(x = displ, y = hwy))"
      ],
      "execution_count": null,
      "outputs": []
    },
    {
      "cell_type": "markdown",
      "metadata": {
        "id": "PhuhOWR5oNG4"
      },
      "source": [
        "### Facets\n",
        "*Moving to [Section 3.5 Facets](https://r4ds.had.co.nz/data-visualisation.html#facets)*\n",
        "\n",
        "We can create \"small multiples\" to show the data in separate charts. Note that both the x-axis range and the y-axis range is the same in all of the charts.\n",
        "\n",
        "The only thing we've added here is the `facet_wrap` function.  It says to divide the charts by `class` and use 2 rows to display them."
      ]
    },
    {
      "cell_type": "code",
      "metadata": {
        "id": "6Mjt8S6foTrF"
      },
      "source": [
        "ggplot(data = mpg) + \n",
        "  geom_point(mapping = aes(x = displ, y = hwy)) + \n",
        "  facet_wrap(~ class, nrow = 2)"
      ],
      "execution_count": null,
      "outputs": []
    },
    {
      "cell_type": "markdown",
      "metadata": {
        "id": "z9ggEy_zo7uB"
      },
      "source": [
        "### Statistical transformations\n",
        "\n",
        "[Section 3.7](https://r4ds.had.co.nz/data-visualisation.html#statistical-transformations)"
      ]
    },
    {
      "cell_type": "markdown",
      "metadata": {
        "id": "6vBp4PiapKaX"
      },
      "source": [
        "Time to look at bar charts and histograms.  We'll use a different dataset, describing diamonds."
      ]
    },
    {
      "cell_type": "code",
      "metadata": {
        "id": "EwFU4a6oeqL3"
      },
      "source": [
        "?ggplot2::diamonds"
      ],
      "execution_count": null,
      "outputs": []
    },
    {
      "cell_type": "markdown",
      "metadata": {
        "id": "6SYUKbagesBl"
      },
      "source": [
        "The chart below uses `geom_bar` to generate a count of items with each type of cut."
      ]
    },
    {
      "cell_type": "code",
      "metadata": {
        "id": "FbpGwJWUpSW2"
      },
      "source": [
        "ggplot(data = diamonds) + \n",
        "  geom_bar(mapping = aes(x = cut))"
      ],
      "execution_count": null,
      "outputs": []
    },
    {
      "cell_type": "markdown",
      "metadata": {
        "id": "NopBoItXqASv"
      },
      "source": [
        "We can also use the `stat_count` function to generate the same chart."
      ]
    },
    {
      "cell_type": "code",
      "metadata": {
        "id": "CNxLBPYYqEre"
      },
      "source": [
        "ggplot(data = diamonds) + \n",
        "  stat_count(mapping = aes(x = cut))"
      ],
      "execution_count": null,
      "outputs": []
    },
    {
      "cell_type": "markdown",
      "metadata": {
        "id": "PPOi6fBZqLwX"
      },
      "source": [
        "We can use `stat_summary` to generate other summary statistics about the dataset. This is setting the min value of the line to the min value of `depth`, max to the max value, and the dot to the median value.\n"
      ]
    },
    {
      "cell_type": "code",
      "metadata": {
        "id": "NKo1Q7ZqqLfQ"
      },
      "source": [
        "ggplot(data = diamonds) + \n",
        "  stat_summary(\n",
        "    mapping = aes(x = cut, y = depth),\n",
        "    fun.ymin = min,\n",
        "    fun.ymax = max,\n",
        "    fun.y = median\n",
        "  )"
      ],
      "execution_count": null,
      "outputs": []
    },
    {
      "cell_type": "markdown",
      "metadata": {
        "id": "S40FHe2yq9zk"
      },
      "source": [
        "*For more information on the stat functions available, see the [ggplot2 cheatsheet](https://github.com/rstudio/cheatsheets/blob/master/data-visualization-2.1.pdf).*"
      ]
    },
    {
      "cell_type": "markdown",
      "metadata": {
        "id": "YyTSqLQ3rAqo"
      },
      "source": [
        "## Workflow: basics"
      ]
    },
    {
      "cell_type": "markdown",
      "metadata": {
        "id": "9tRoSLzerK5U"
      },
      "source": [
        "[Section 4](https://r4ds.had.co.nz/workflow-basics.html)\n",
        "\n",
        "*Now that we've made some charts, let go back to basics.*"
      ]
    },
    {
      "cell_type": "markdown",
      "metadata": {
        "id": "ZaZCqRxcrbPo"
      },
      "source": [
        "Using R as a calculator:"
      ]
    },
    {
      "cell_type": "code",
      "metadata": {
        "id": "QOThdcJIrdYO"
      },
      "source": [
        "1 / 200 * 30\n",
        "(59 + 73 + 2) / 3\n",
        "sin(pi/2)"
      ],
      "execution_count": null,
      "outputs": []
    },
    {
      "cell_type": "markdown",
      "metadata": {
        "id": "IDdqZzbGrqVF"
      },
      "source": [
        "**Important:** Variable assignment is done with `<-`, not with `=`"
      ]
    },
    {
      "cell_type": "code",
      "metadata": {
        "id": "UWoOSe-Qrwjr"
      },
      "source": [
        "x <- 3*4\n",
        "x"
      ],
      "execution_count": null,
      "outputs": []
    },
    {
      "cell_type": "markdown",
      "metadata": {
        "id": "zAHqBJoRfPx4"
      },
      "source": [
        "## Working with Data"
      ]
    },
    {
      "cell_type": "markdown",
      "metadata": {
        "id": "gRPyco6sfSk-"
      },
      "source": [
        "[Section 5](https://r4ds.had.co.nz/transform.html) - uses the `flights` dataset and introduces filter(), arrange(), select()"
      ]
    },
    {
      "cell_type": "code",
      "metadata": {
        "id": "LfSZl5sCfZoG"
      },
      "source": [
        "install.packages(\"nycflights13\")\n",
        "library(nycflights13)\n",
        "?nycflights13::flights"
      ],
      "execution_count": null,
      "outputs": []
    },
    {
      "cell_type": "markdown",
      "metadata": {
        "id": "10Dlf9LdgTel"
      },
      "source": [
        "`filter()`  allows you to subset observations based on their values. "
      ]
    },
    {
      "cell_type": "code",
      "metadata": {
        "id": "xWdG4oZsgXAK"
      },
      "source": [
        "filter(flights, month==1, day==1)"
      ],
      "execution_count": null,
      "outputs": []
    },
    {
      "cell_type": "markdown",
      "metadata": {
        "id": "cA-D9jOzghBq"
      },
      "source": [
        "`arrange()` lets you sort rows (rather than filtering them out, just rearrange them."
      ]
    },
    {
      "cell_type": "code",
      "metadata": {
        "id": "hZjKNm9fgoQv"
      },
      "source": [
        "arrange(flights, year, month, day)"
      ],
      "execution_count": null,
      "outputs": []
    },
    {
      "cell_type": "markdown",
      "metadata": {
        "id": "dZkwTA_egtiv"
      },
      "source": [
        "`select()` lets you pick only certain columns"
      ]
    },
    {
      "cell_type": "code",
      "metadata": {
        "id": "fS8kS885g2el"
      },
      "source": [
        "select(flights, year, month, day, tailnum)"
      ],
      "execution_count": null,
      "outputs": []
    },
    {
      "cell_type": "markdown",
      "metadata": {
        "id": "7iHJMSByhHR6"
      },
      "source": [
        "Finally, we'll use `summarize()` and `group_by()` to perform summary operations on selected data.\n",
        "\n",
        "This will compute the average departure delay by month.  (`na.rm = TRUE` just means to ignore any rows that have `NA` values)"
      ]
    },
    {
      "cell_type": "code",
      "metadata": {
        "id": "xO8qSeNBhL8a"
      },
      "source": [
        "by_month = group_by(flights, year, month)\n",
        "summarize(by_month, delay = mean(dep_delay, na.rm = TRUE))"
      ],
      "execution_count": null,
      "outputs": []
    },
    {
      "cell_type": "markdown",
      "metadata": {
        "id": "lB2J0r-BlV1_"
      },
      "source": [
        "Here are a couple shortcut notations:\n",
        "* `$` - allows you to reference a particular column (without having to use `filter()`)\n",
        "* `%>%` - like a pipe (`|`) in unix"
      ]
    },
    {
      "cell_type": "markdown",
      "metadata": {
        "id": "pBGKJHYNmjUf"
      },
      "source": [
        "Here we're going to compute the average delay for all Delta flights."
      ]
    },
    {
      "cell_type": "code",
      "metadata": {
        "id": "JiypZisWliyJ"
      },
      "source": [
        "delta = filter(flights, carrier==\"DL\")\n",
        "mean(delta$dep_delay, na.rm=TRUE)"
      ],
      "execution_count": null,
      "outputs": []
    },
    {
      "cell_type": "markdown",
      "metadata": {
        "id": "V0zstTYSnVQP"
      },
      "source": [
        "The pipe is just a shortcut.  This is the same result as above to compute the average departure delay by month.\n",
        "\n",
        "You can omit the first parameter (dataset) and it's assumed that the data is coming from the pipe input."
      ]
    },
    {
      "cell_type": "code",
      "metadata": {
        "id": "-2AWl8cKncbU"
      },
      "source": [
        "group_by(flights, year, month) %>% summarize(delay = mean(dep_delay, na.rm = TRUE))"
      ],
      "execution_count": null,
      "outputs": []
    },
    {
      "cell_type": "markdown",
      "metadata": {
        "id": "Yyt7pIP9iMeo"
      },
      "source": [
        "## Data Import\n",
        "\n",
        "[Section 11](https://r4ds.had.co.nz/data-import.html) - getting data into R, reading CSV"
      ]
    },
    {
      "cell_type": "markdown",
      "metadata": {
        "id": "kdO0-6NViQo1"
      },
      "source": [
        "The main function we'll look at is `read_csv()` to read in comma-separated files, but there are several others described in this section.\n",
        "\n",
        "There are two ways that we can load data into the notebook.  First, if the data is available online, we can provide a URL:"
      ]
    },
    {
      "cell_type": "code",
      "metadata": {
        "id": "OkGki1Npj5Ll"
      },
      "source": [
        "stars = read_csv(\"https://raw.githubusercontent.com/cs625-datavis-fall19/assignments/master/stars.csv\")"
      ],
      "execution_count": null,
      "outputs": []
    },
    {
      "cell_type": "markdown",
      "metadata": {
        "id": "pX12732pWbhe"
      },
      "source": [
        "\n",
        "Or we can load the datafile temporarily in the notebook and read it in using the filename.  Click the folder icon in the left sidebar and then click the upload button (page with an up arrow).  Once the file is uploaded, you can just use the filename directly:"
      ]
    },
    {
      "cell_type": "code",
      "metadata": {
        "id": "NCAo8kgJV7R0"
      },
      "source": [
        "stars = read_csv(\"stars.csv\")"
      ],
      "execution_count": null,
      "outputs": []
    },
    {
      "cell_type": "markdown",
      "metadata": {
        "id": "mhSZNpgNkHmU"
      },
      "source": [
        "Once this is read in, you can use all of the other functions that we've covered."
      ]
    },
    {
      "cell_type": "code",
      "metadata": {
        "id": "2Yu7DnWbknVe"
      },
      "source": [
        "hot_stars = filter(stars, temp > 5000)\n",
        "head(hot_stars)"
      ],
      "execution_count": null,
      "outputs": []
    },
    {
      "cell_type": "markdown",
      "metadata": {
        "id": "Gax_pmTCsSCU"
      },
      "source": [
        "## Chart Labels\n",
        "\n",
        "[Section 28](https://r4ds.had.co.nz/graphics-for-communication.html#label) Graphics for Communication\n",
        "\n",
        "It's important to have good chart titles and labels."
      ]
    },
    {
      "cell_type": "code",
      "metadata": {
        "id": "7KpXzl6ZoU1T"
      },
      "source": [
        "ggplot(data = mpg) + \n",
        "  geom_point(mapping = aes(x = displ, y = hwy, color = class))"
      ],
      "execution_count": null,
      "outputs": []
    },
    {
      "cell_type": "markdown",
      "metadata": {
        "id": "9E03na28oWxq"
      },
      "source": [
        "Let's add a title and caption."
      ]
    },
    {
      "cell_type": "code",
      "metadata": {
        "id": "CHItGB9QoZ7C"
      },
      "source": [
        "ggplot(data = mpg) + \n",
        "  geom_point(mapping = aes(x = displ, y = hwy, color = class)) +\n",
        "  labs(\n",
        "    title=\"Fuel efficiency decreases with engine size\",\n",
        "    caption = \"Data from fueleconomy.gov\"\n",
        "  )"
      ],
      "execution_count": null,
      "outputs": []
    },
    {
      "cell_type": "markdown",
      "metadata": {
        "id": "q5JXuP2Bos9W"
      },
      "source": [
        "Now let's change the axis labels."
      ]
    },
    {
      "cell_type": "code",
      "metadata": {
        "id": "6fbY8vbWosuu"
      },
      "source": [
        "ggplot(data = mpg) + \n",
        "  geom_point(mapping = aes(x = displ, y = hwy, color = class)) +\n",
        "  labs(\n",
        "    title=\"Fuel efficiency decreases with engine size\",\n",
        "    caption = \"Data from fueleconomy.gov\",\n",
        "    x = \"Engine displacement (L)\",\n",
        "    y = \"Highway fuel economy (mpg)\",\n",
        "    color = \"Car type\"\n",
        "  )"
      ],
      "execution_count": null,
      "outputs": []
    },
    {
      "cell_type": "markdown",
      "metadata": {
        "id": "Slpn4jh434mR"
      },
      "source": [
        "## Data Analysis Walkthrough\n",
        "\n",
        "Now we're going to take a dataset and walk through generating some basic statistics and charts.\n",
        "\n",
        "stats\n",
        "* mean\n",
        "* standard deviation\n",
        "* median\n",
        "* mode\n",
        "\n",
        "charts\n",
        "* histogram visualizing the distribution of values for a single variable\n",
        "* box plot visualizing the distribution of values for a single variable\n",
        "* scatterplot visualizing the distribution of values for one variable vs. a second variable\n",
        "* line chart showing the values of data vs. time\n"
      ]
    },
    {
      "cell_type": "code",
      "metadata": {
        "id": "gSe13zff4-Xx"
      },
      "source": [
        "install.packages(\"dslabs\")"
      ],
      "execution_count": null,
      "outputs": []
    },
    {
      "cell_type": "code",
      "metadata": {
        "id": "DajSbac_5gj1"
      },
      "source": [
        "library(dslabs)"
      ],
      "execution_count": null,
      "outputs": []
    },
    {
      "cell_type": "markdown",
      "metadata": {
        "id": "bLvHZJ3Q7FQr"
      },
      "source": [
        "We're going to use the `murders` dataset for most of these. This is the FBI dataset for gun murders in the US in 2010. It is broken down by each state and includes the state population."
      ]
    },
    {
      "cell_type": "code",
      "metadata": {
        "id": "cmXoVvNu5i18"
      },
      "source": [
        "head(murders)"
      ],
      "execution_count": null,
      "outputs": []
    },
    {
      "cell_type": "markdown",
      "metadata": {
        "id": "BwJKuxhx7UOh"
      },
      "source": [
        "### Stats\n",
        "\n",
        "Here we'll compute mean, standard deviation, median, and mode (most common value)."
      ]
    },
    {
      "cell_type": "code",
      "metadata": {
        "id": "HaBOumMO6iTL"
      },
      "source": [
        "mean(murders$total)"
      ],
      "execution_count": null,
      "outputs": []
    },
    {
      "cell_type": "code",
      "metadata": {
        "id": "IHV8hWg062XR"
      },
      "source": [
        "sd(murders$total)"
      ],
      "execution_count": null,
      "outputs": []
    },
    {
      "cell_type": "code",
      "metadata": {
        "id": "xuUghAO86kyY"
      },
      "source": [
        "median(murders$total)"
      ],
      "execution_count": null,
      "outputs": []
    },
    {
      "cell_type": "markdown",
      "metadata": {
        "id": "pP6Q87xt7bYA"
      },
      "source": [
        "There's no built-in mode function in R, so we write our own."
      ]
    },
    {
      "cell_type": "code",
      "metadata": {
        "id": "l246ZeIh6rvu"
      },
      "source": [
        "getmode <- function(v) {\n",
        "   uniqv <- unique(v)\n",
        "   uniqv[which.max(tabulate(match(v, uniqv)))]\n",
        "}\n",
        "getmode(murders$total)"
      ],
      "execution_count": null,
      "outputs": []
    },
    {
      "cell_type": "code",
      "metadata": {
        "id": "rs5CVg25S_LE"
      },
      "source": [
        "max(murders$total)"
      ],
      "execution_count": null,
      "outputs": []
    },
    {
      "cell_type": "code",
      "metadata": {
        "id": "YZ7jZ4bDTB4e"
      },
      "source": [
        "min(murders$total)"
      ],
      "execution_count": null,
      "outputs": []
    },
    {
      "cell_type": "code",
      "metadata": {
        "id": "YUSThZ0vTOMu"
      },
      "source": [
        "arrange(murders, desc(total))"
      ],
      "execution_count": null,
      "outputs": []
    },
    {
      "cell_type": "code",
      "metadata": {
        "id": "0NYPoa8aTieX"
      },
      "source": [
        "arrange(murders, desc(total/population))"
      ],
      "execution_count": null,
      "outputs": []
    },
    {
      "cell_type": "markdown",
      "metadata": {
        "id": "dFUaJQHA7j0X"
      },
      "source": [
        "### Histogram"
      ]
    },
    {
      "cell_type": "code",
      "metadata": {
        "id": "Y4NgTgalQCz2"
      },
      "source": [
        "ggplot(murders, aes(total)) + \n",
        "  geom_histogram(binwidth=200) + \n",
        "  labs(\n",
        "    title=\"Distribution of Gun Murders in 2010\",\n",
        "    x = \"Gun Murders (bins of 200)\",\n",
        "    y = \"Number of States\"\n",
        "  )"
      ],
      "execution_count": null,
      "outputs": []
    },
    {
      "cell_type": "markdown",
      "metadata": {
        "id": "TAnAeHNA7k7O"
      },
      "source": [
        "### Box plot"
      ]
    },
    {
      "cell_type": "code",
      "metadata": {
        "id": "3UhkDTHVRA9G"
      },
      "source": [
        "ggplot(murders, aes(y=total)) + \n",
        "  geom_boxplot() + \n",
        "  labs(\n",
        "    y = \"Gun Murders in 2010\"\n",
        "  )"
      ],
      "execution_count": null,
      "outputs": []
    },
    {
      "cell_type": "code",
      "metadata": {
        "id": "82j9aXD5RYqI"
      },
      "source": [
        "ggplot(murders, aes(x=region, y=total)) + \n",
        "  geom_boxplot() + \n",
        "  labs(\n",
        "    y = \"Gun Murders in 2010\"\n",
        "  )"
      ],
      "execution_count": null,
      "outputs": []
    },
    {
      "cell_type": "markdown",
      "metadata": {
        "id": "kEiBcqoP7nHG"
      },
      "source": [
        "### Scatterplot"
      ]
    },
    {
      "cell_type": "code",
      "metadata": {
        "id": "uNTIzbhe9tOU"
      },
      "source": [
        "ggplot(murders) + \n",
        "  geom_point(mapping = aes(x = population, y = total, color=region)) + \n",
        "  labs(\n",
        "    title=\"Gun Murders in 2010\",\n",
        "    x = \"State Population\",\n",
        "    y = \"Gun Murders\",\n",
        "    color = \"Region\"\n",
        "  )"
      ],
      "execution_count": null,
      "outputs": []
    },
    {
      "cell_type": "code",
      "metadata": {
        "id": "sXGtRVRi9EnU"
      },
      "source": [
        "ggplot(murders) + \n",
        "  geom_point(mapping = aes(x = population, y = total/population, color=region)) + \n",
        "  labs(\n",
        "    title=\"Gun Murders in 2010 \",\n",
        "    x = \"State Population\",\n",
        "    y = \"Murder Rate (murders / population)\",\n",
        "    color = \"Region\"\n",
        "  )"
      ],
      "execution_count": null,
      "outputs": []
    },
    {
      "cell_type": "markdown",
      "metadata": {
        "id": "x15VCHXS7oU1"
      },
      "source": [
        "### Line Chart \n",
        "\n",
        "We want to do a line chart, but this isn't the right kind of data for that, so we'll load in a different dataset.  \n",
        "\n",
        "The `polls_2008` dataset is showing the number of days until the 2008 US Presidential Election Day (in negative numbers) and the average poll margin between Obama and McCain on that day."
      ]
    },
    {
      "cell_type": "code",
      "metadata": {
        "id": "VoufkqSV7ykW"
      },
      "source": [
        "head(polls_2008)"
      ],
      "execution_count": null,
      "outputs": []
    },
    {
      "cell_type": "code",
      "metadata": {
        "id": "trM9I6P0SAvs"
      },
      "source": [
        "ggplot(polls_2008, aes(x=day, y=margin)) +\n",
        "  geom_line()+\n",
        "  labs (\n",
        "    x = \"Days before Election\",\n",
        "    y = \"Poll difference between Obama and McCain\"\n",
        "  )"
      ],
      "execution_count": null,
      "outputs": []
    },
    {
      "cell_type": "code",
      "metadata": {
        "id": "FebxRHa1SQ3Q"
      },
      "source": [
        "ggplot(polls_2008, aes(x=day, y=margin)) +\n",
        "  geom_line()+\n",
        "  geom_point() + \n",
        "  labs (\n",
        "    x = \"Days before Election\",\n",
        "    y = \"Poll difference between Obama and McCain\"\n",
        "  )"
      ],
      "execution_count": null,
      "outputs": []
    }
  ]
}